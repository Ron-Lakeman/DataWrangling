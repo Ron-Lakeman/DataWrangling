{
 "cells": [
  {
   "cell_type": "code",
   "execution_count": 3,
   "id": "d86ee60b-d306-433a-869c-ce5a12dc1a31",
   "metadata": {},
   "outputs": [],
   "source": [
    "import numpy as np\n",
    "import pandas as pd\n",
    "pd.set_option('display.max_rows', 1000)\n",
    "pd.set_option('display.max_columns', 100)"
   ]
  },
  {
   "cell_type": "code",
   "execution_count": 5,
   "id": "720f32cd-93b4-4fd5-a168-5a99b5d25423",
   "metadata": {},
   "outputs": [],
   "source": [
    "data = pd.read_csv('housing_price.csv', delimiter = ';')\n",
    "housing_prices = pd.DataFrame(data)"
   ]
  },
  {
   "cell_type": "code",
   "execution_count": 7,
   "id": "270b7416-1e44-4a72-96bf-2388cd46ea06",
   "metadata": {},
   "outputs": [
    {
     "data": {
      "text/html": [
       "<div>\n",
       "<style scoped>\n",
       "    .dataframe tbody tr th:only-of-type {\n",
       "        vertical-align: middle;\n",
       "    }\n",
       "\n",
       "    .dataframe tbody tr th {\n",
       "        vertical-align: top;\n",
       "    }\n",
       "\n",
       "    .dataframe thead th {\n",
       "        text-align: right;\n",
       "    }\n",
       "</style>\n",
       "<table border=\"1\" class=\"dataframe\">\n",
       "  <thead>\n",
       "    <tr style=\"text-align: right;\">\n",
       "      <th></th>\n",
       "      <th>ID</th>\n",
       "      <th>RegioS</th>\n",
       "      <th>Perioden</th>\n",
       "      <th>GemiddeldeVerkoopprijs_1</th>\n",
       "    </tr>\n",
       "  </thead>\n",
       "  <tbody>\n",
       "    <tr>\n",
       "      <th>0</th>\n",
       "      <td>0</td>\n",
       "      <td>NL01</td>\n",
       "      <td>1995JJ00</td>\n",
       "      <td>93750.0</td>\n",
       "    </tr>\n",
       "    <tr>\n",
       "      <th>1</th>\n",
       "      <td>1</td>\n",
       "      <td>NL01</td>\n",
       "      <td>1996JJ00</td>\n",
       "      <td>102607.0</td>\n",
       "    </tr>\n",
       "    <tr>\n",
       "      <th>2</th>\n",
       "      <td>2</td>\n",
       "      <td>NL01</td>\n",
       "      <td>1997JJ00</td>\n",
       "      <td>113163.0</td>\n",
       "    </tr>\n",
       "    <tr>\n",
       "      <th>3</th>\n",
       "      <td>3</td>\n",
       "      <td>NL01</td>\n",
       "      <td>1998JJ00</td>\n",
       "      <td>124540.0</td>\n",
       "    </tr>\n",
       "    <tr>\n",
       "      <th>4</th>\n",
       "      <td>4</td>\n",
       "      <td>NL01</td>\n",
       "      <td>1999JJ00</td>\n",
       "      <td>144778.0</td>\n",
       "    </tr>\n",
       "  </tbody>\n",
       "</table>\n",
       "</div>"
      ],
      "text/plain": [
       "   ID  RegioS  Perioden  GemiddeldeVerkoopprijs_1\n",
       "0   0  NL01    1995JJ00                   93750.0\n",
       "1   1  NL01    1996JJ00                  102607.0\n",
       "2   2  NL01    1997JJ00                  113163.0\n",
       "3   3  NL01    1998JJ00                  124540.0\n",
       "4   4  NL01    1999JJ00                  144778.0"
      ]
     },
     "execution_count": 7,
     "metadata": {},
     "output_type": "execute_result"
    }
   ],
   "source": [
    "housing_prices.head()"
   ]
  }
 ],
 "metadata": {
  "kernelspec": {
   "display_name": "Python 3 (ipykernel)",
   "language": "python",
   "name": "python3"
  },
  "language_info": {
   "codemirror_mode": {
    "name": "ipython",
    "version": 3
   },
   "file_extension": ".py",
   "mimetype": "text/x-python",
   "name": "python",
   "nbconvert_exporter": "python",
   "pygments_lexer": "ipython3",
   "version": "3.12.7"
  }
 },
 "nbformat": 4,
 "nbformat_minor": 5
}
